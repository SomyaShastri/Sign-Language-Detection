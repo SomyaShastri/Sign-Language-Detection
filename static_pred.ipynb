{
 "cells": [
  {
   "cell_type": "code",
   "execution_count": 1,
   "metadata": {},
   "outputs": [
    {
     "name": "stdout",
     "output_type": "stream",
     "text": [
      "Requirement already satisfied: matplotlib in /Users/somyashastri/miniconda3/envs/torch/lib/python3.9/site-packages (3.8.0)\n",
      "Requirement already satisfied: contourpy>=1.0.1 in /Users/somyashastri/miniconda3/envs/torch/lib/python3.9/site-packages (from matplotlib) (1.1.1)\n",
      "Requirement already satisfied: cycler>=0.10 in /Users/somyashastri/miniconda3/envs/torch/lib/python3.9/site-packages (from matplotlib) (0.12.1)\n",
      "Requirement already satisfied: fonttools>=4.22.0 in /Users/somyashastri/miniconda3/envs/torch/lib/python3.9/site-packages (from matplotlib) (4.43.1)\n",
      "Requirement already satisfied: kiwisolver>=1.0.1 in /Users/somyashastri/miniconda3/envs/torch/lib/python3.9/site-packages (from matplotlib) (1.4.5)\n",
      "Requirement already satisfied: numpy<2,>=1.21 in /Users/somyashastri/miniconda3/envs/torch/lib/python3.9/site-packages (from matplotlib) (1.26.0)\n",
      "Requirement already satisfied: packaging>=20.0 in /Users/somyashastri/miniconda3/envs/torch/lib/python3.9/site-packages (from matplotlib) (23.2)\n",
      "Requirement already satisfied: pillow>=6.2.0 in /Users/somyashastri/miniconda3/envs/torch/lib/python3.9/site-packages (from matplotlib) (10.1.0)\n",
      "Requirement already satisfied: pyparsing>=2.3.1 in /Users/somyashastri/miniconda3/envs/torch/lib/python3.9/site-packages (from matplotlib) (3.1.1)\n",
      "Requirement already satisfied: python-dateutil>=2.7 in /Users/somyashastri/miniconda3/envs/torch/lib/python3.9/site-packages (from matplotlib) (2.8.2)\n",
      "Requirement already satisfied: importlib-resources>=3.2.0 in /Users/somyashastri/miniconda3/envs/torch/lib/python3.9/site-packages (from matplotlib) (6.1.0)\n",
      "Requirement already satisfied: zipp>=3.1.0 in /Users/somyashastri/miniconda3/envs/torch/lib/python3.9/site-packages (from importlib-resources>=3.2.0->matplotlib) (3.17.0)\n",
      "Requirement already satisfied: six>=1.5 in /Users/somyashastri/miniconda3/envs/torch/lib/python3.9/site-packages (from python-dateutil>=2.7->matplotlib) (1.16.0)\n",
      "Note: you may need to restart the kernel to use updated packages.\n"
     ]
    }
   ],
   "source": [
    "#Building model and training\n",
    "import pandas as pd\n",
    "import numpy as np\n",
    "%pip install matplotlib\n",
    "import matplotlib.cm as cm\n",
    "import matplotlib.pyplot as plt\n"
   ]
  },
  {
   "cell_type": "code",
   "execution_count": 2,
   "metadata": {},
   "outputs": [
    {
     "name": "stdout",
     "output_type": "stream",
     "text": [
      "Requirement already satisfied: tensorflow in /Users/somyashastri/miniconda3/envs/torch/lib/python3.9/site-packages (2.14.0)\n",
      "Requirement already satisfied: tensorflow-macos==2.14.0 in /Users/somyashastri/miniconda3/envs/torch/lib/python3.9/site-packages (from tensorflow) (2.14.0)\n",
      "Requirement already satisfied: absl-py>=1.0.0 in /Users/somyashastri/miniconda3/envs/torch/lib/python3.9/site-packages (from tensorflow-macos==2.14.0->tensorflow) (2.0.0)\n",
      "Requirement already satisfied: astunparse>=1.6.0 in /Users/somyashastri/miniconda3/envs/torch/lib/python3.9/site-packages (from tensorflow-macos==2.14.0->tensorflow) (1.6.3)\n",
      "Requirement already satisfied: flatbuffers>=23.5.26 in /Users/somyashastri/miniconda3/envs/torch/lib/python3.9/site-packages (from tensorflow-macos==2.14.0->tensorflow) (23.5.26)\n",
      "Requirement already satisfied: gast!=0.5.0,!=0.5.1,!=0.5.2,>=0.2.1 in /Users/somyashastri/miniconda3/envs/torch/lib/python3.9/site-packages (from tensorflow-macos==2.14.0->tensorflow) (0.5.4)\n",
      "Requirement already satisfied: google-pasta>=0.1.1 in /Users/somyashastri/miniconda3/envs/torch/lib/python3.9/site-packages (from tensorflow-macos==2.14.0->tensorflow) (0.2.0)\n",
      "Requirement already satisfied: h5py>=2.9.0 in /Users/somyashastri/miniconda3/envs/torch/lib/python3.9/site-packages (from tensorflow-macos==2.14.0->tensorflow) (3.10.0)\n",
      "Requirement already satisfied: libclang>=13.0.0 in /Users/somyashastri/miniconda3/envs/torch/lib/python3.9/site-packages (from tensorflow-macos==2.14.0->tensorflow) (16.0.6)\n",
      "Requirement already satisfied: ml-dtypes==0.2.0 in /Users/somyashastri/miniconda3/envs/torch/lib/python3.9/site-packages (from tensorflow-macos==2.14.0->tensorflow) (0.2.0)\n",
      "Requirement already satisfied: numpy>=1.23.5 in /Users/somyashastri/miniconda3/envs/torch/lib/python3.9/site-packages (from tensorflow-macos==2.14.0->tensorflow) (1.26.0)\n",
      "Requirement already satisfied: opt-einsum>=2.3.2 in /Users/somyashastri/miniconda3/envs/torch/lib/python3.9/site-packages (from tensorflow-macos==2.14.0->tensorflow) (3.3.0)\n",
      "Requirement already satisfied: packaging in /Users/somyashastri/miniconda3/envs/torch/lib/python3.9/site-packages (from tensorflow-macos==2.14.0->tensorflow) (23.2)\n",
      "Requirement already satisfied: protobuf!=4.21.0,!=4.21.1,!=4.21.2,!=4.21.3,!=4.21.4,!=4.21.5,<5.0.0dev,>=3.20.3 in /Users/somyashastri/miniconda3/envs/torch/lib/python3.9/site-packages (from tensorflow-macos==2.14.0->tensorflow) (4.24.4)\n",
      "Requirement already satisfied: setuptools in /Users/somyashastri/miniconda3/envs/torch/lib/python3.9/site-packages (from tensorflow-macos==2.14.0->tensorflow) (68.2.2)\n",
      "Requirement already satisfied: six>=1.12.0 in /Users/somyashastri/miniconda3/envs/torch/lib/python3.9/site-packages (from tensorflow-macos==2.14.0->tensorflow) (1.16.0)\n",
      "Requirement already satisfied: termcolor>=1.1.0 in /Users/somyashastri/miniconda3/envs/torch/lib/python3.9/site-packages (from tensorflow-macos==2.14.0->tensorflow) (2.3.0)\n",
      "Requirement already satisfied: typing-extensions>=3.6.6 in /Users/somyashastri/miniconda3/envs/torch/lib/python3.9/site-packages (from tensorflow-macos==2.14.0->tensorflow) (4.8.0)\n",
      "Requirement already satisfied: wrapt<1.15,>=1.11.0 in /Users/somyashastri/miniconda3/envs/torch/lib/python3.9/site-packages (from tensorflow-macos==2.14.0->tensorflow) (1.14.1)\n",
      "Requirement already satisfied: tensorflow-io-gcs-filesystem>=0.23.1 in /Users/somyashastri/miniconda3/envs/torch/lib/python3.9/site-packages (from tensorflow-macos==2.14.0->tensorflow) (0.34.0)\n",
      "Requirement already satisfied: grpcio<2.0,>=1.24.3 in /Users/somyashastri/miniconda3/envs/torch/lib/python3.9/site-packages (from tensorflow-macos==2.14.0->tensorflow) (1.59.0)\n",
      "Requirement already satisfied: tensorboard<2.15,>=2.14 in /Users/somyashastri/miniconda3/envs/torch/lib/python3.9/site-packages (from tensorflow-macos==2.14.0->tensorflow) (2.14.1)\n",
      "Requirement already satisfied: tensorflow-estimator<2.15,>=2.14.0 in /Users/somyashastri/miniconda3/envs/torch/lib/python3.9/site-packages (from tensorflow-macos==2.14.0->tensorflow) (2.14.0)\n",
      "Requirement already satisfied: keras<2.15,>=2.14.0 in /Users/somyashastri/miniconda3/envs/torch/lib/python3.9/site-packages (from tensorflow-macos==2.14.0->tensorflow) (2.14.0)\n",
      "Requirement already satisfied: wheel<1.0,>=0.23.0 in /Users/somyashastri/miniconda3/envs/torch/lib/python3.9/site-packages (from astunparse>=1.6.0->tensorflow-macos==2.14.0->tensorflow) (0.41.2)\n",
      "Requirement already satisfied: google-auth<3,>=1.6.3 in /Users/somyashastri/miniconda3/envs/torch/lib/python3.9/site-packages (from tensorboard<2.15,>=2.14->tensorflow-macos==2.14.0->tensorflow) (2.23.3)\n",
      "Requirement already satisfied: google-auth-oauthlib<1.1,>=0.5 in /Users/somyashastri/miniconda3/envs/torch/lib/python3.9/site-packages (from tensorboard<2.15,>=2.14->tensorflow-macos==2.14.0->tensorflow) (1.0.0)\n",
      "Requirement already satisfied: markdown>=2.6.8 in /Users/somyashastri/miniconda3/envs/torch/lib/python3.9/site-packages (from tensorboard<2.15,>=2.14->tensorflow-macos==2.14.0->tensorflow) (3.5)\n",
      "Requirement already satisfied: requests<3,>=2.21.0 in /Users/somyashastri/miniconda3/envs/torch/lib/python3.9/site-packages (from tensorboard<2.15,>=2.14->tensorflow-macos==2.14.0->tensorflow) (2.31.0)\n",
      "Requirement already satisfied: tensorboard-data-server<0.8.0,>=0.7.0 in /Users/somyashastri/miniconda3/envs/torch/lib/python3.9/site-packages (from tensorboard<2.15,>=2.14->tensorflow-macos==2.14.0->tensorflow) (0.7.1)\n",
      "Requirement already satisfied: werkzeug>=1.0.1 in /Users/somyashastri/miniconda3/envs/torch/lib/python3.9/site-packages (from tensorboard<2.15,>=2.14->tensorflow-macos==2.14.0->tensorflow) (3.0.0)\n",
      "Requirement already satisfied: cachetools<6.0,>=2.0.0 in /Users/somyashastri/miniconda3/envs/torch/lib/python3.9/site-packages (from google-auth<3,>=1.6.3->tensorboard<2.15,>=2.14->tensorflow-macos==2.14.0->tensorflow) (5.3.1)\n",
      "Requirement already satisfied: pyasn1-modules>=0.2.1 in /Users/somyashastri/miniconda3/envs/torch/lib/python3.9/site-packages (from google-auth<3,>=1.6.3->tensorboard<2.15,>=2.14->tensorflow-macos==2.14.0->tensorflow) (0.3.0)\n",
      "Requirement already satisfied: rsa<5,>=3.1.4 in /Users/somyashastri/miniconda3/envs/torch/lib/python3.9/site-packages (from google-auth<3,>=1.6.3->tensorboard<2.15,>=2.14->tensorflow-macos==2.14.0->tensorflow) (4.9)\n",
      "Requirement already satisfied: requests-oauthlib>=0.7.0 in /Users/somyashastri/miniconda3/envs/torch/lib/python3.9/site-packages (from google-auth-oauthlib<1.1,>=0.5->tensorboard<2.15,>=2.14->tensorflow-macos==2.14.0->tensorflow) (1.3.1)\n",
      "Requirement already satisfied: importlib-metadata>=4.4 in /Users/somyashastri/miniconda3/envs/torch/lib/python3.9/site-packages (from markdown>=2.6.8->tensorboard<2.15,>=2.14->tensorflow-macos==2.14.0->tensorflow) (6.8.0)\n",
      "Requirement already satisfied: charset-normalizer<4,>=2 in /Users/somyashastri/miniconda3/envs/torch/lib/python3.9/site-packages (from requests<3,>=2.21.0->tensorboard<2.15,>=2.14->tensorflow-macos==2.14.0->tensorflow) (3.3.0)\n",
      "Requirement already satisfied: idna<4,>=2.5 in /Users/somyashastri/miniconda3/envs/torch/lib/python3.9/site-packages (from requests<3,>=2.21.0->tensorboard<2.15,>=2.14->tensorflow-macos==2.14.0->tensorflow) (3.4)\n",
      "Requirement already satisfied: urllib3<3,>=1.21.1 in /Users/somyashastri/miniconda3/envs/torch/lib/python3.9/site-packages (from requests<3,>=2.21.0->tensorboard<2.15,>=2.14->tensorflow-macos==2.14.0->tensorflow) (1.26.17)\n",
      "Requirement already satisfied: certifi>=2017.4.17 in /Users/somyashastri/miniconda3/envs/torch/lib/python3.9/site-packages (from requests<3,>=2.21.0->tensorboard<2.15,>=2.14->tensorflow-macos==2.14.0->tensorflow) (2023.7.22)\n",
      "Requirement already satisfied: MarkupSafe>=2.1.1 in /Users/somyashastri/miniconda3/envs/torch/lib/python3.9/site-packages (from werkzeug>=1.0.1->tensorboard<2.15,>=2.14->tensorflow-macos==2.14.0->tensorflow) (2.1.3)\n",
      "Requirement already satisfied: zipp>=0.5 in /Users/somyashastri/miniconda3/envs/torch/lib/python3.9/site-packages (from importlib-metadata>=4.4->markdown>=2.6.8->tensorboard<2.15,>=2.14->tensorflow-macos==2.14.0->tensorflow) (3.17.0)\n",
      "Requirement already satisfied: pyasn1<0.6.0,>=0.4.6 in /Users/somyashastri/miniconda3/envs/torch/lib/python3.9/site-packages (from pyasn1-modules>=0.2.1->google-auth<3,>=1.6.3->tensorboard<2.15,>=2.14->tensorflow-macos==2.14.0->tensorflow) (0.5.0)\n",
      "Requirement already satisfied: oauthlib>=3.0.0 in /Users/somyashastri/miniconda3/envs/torch/lib/python3.9/site-packages (from requests-oauthlib>=0.7.0->google-auth-oauthlib<1.1,>=0.5->tensorboard<2.15,>=2.14->tensorflow-macos==2.14.0->tensorflow) (3.2.2)\n",
      "Note: you may need to restart the kernel to use updated packages.\n"
     ]
    }
   ],
   "source": [
    "%pip install tensorflow\n",
    "import tensorflow as tf\n",
    "import keras\n",
    "from keras.models import Sequential\n",
    "from keras.layers import Dense,Dropout,Flatten\n",
    "from keras.layers import Conv2D,MaxPooling2D,GlobalAveragePooling2D,Activation,Convolution2D,BatchNormalization\n",
    "from keras.utils import to_categorical\n",
    "from keras.preprocessing import image"
   ]
  },
  {
   "cell_type": "code",
   "execution_count": null,
   "metadata": {},
   "outputs": [],
   "source": [
    "# %pip install --upgrade numpy\n",
    "# %pip install --upgrade scikit-learn"
   ]
  },
  {
   "cell_type": "code",
   "execution_count": 3,
   "metadata": {},
   "outputs": [],
   "source": [
    "from sklearn.model_selection import train_test_split\n",
    "from keras.utils import to_categorical\n",
    "from tqdm import tqdm"
   ]
  },
  {
   "cell_type": "code",
   "execution_count": 5,
   "metadata": {},
   "outputs": [],
   "source": [
    "train = pd.read_csv('archive/sign_mnist_train.csv', header=0)\n",
    "test = pd.read_csv('archive/sign_mnist_test.csv',header=0)"
   ]
  },
  {
   "cell_type": "code",
   "execution_count": 6,
   "metadata": {},
   "outputs": [],
   "source": [
    "y_train = train['label'].values\n",
    "y_test = test['label'].values\n",
    "\n",
    "X_train = train.drop(['label'],axis=1)\n",
    "X_test = test.drop(['label'], axis=1)"
   ]
  },
  {
   "cell_type": "code",
   "execution_count": 7,
   "metadata": {},
   "outputs": [
    {
     "data": {
      "text/plain": [
       "array([[107, 118, 127, 134, 139, 143, 146, 150, 153, 156, 158, 160, 163,\n",
       "        165, 159, 166, 168, 170, 170, 171, 171, 171, 172, 171, 171, 170,\n",
       "        170, 169],\n",
       "       [111, 121, 129, 135, 141, 144, 148, 151, 154, 157, 160, 163, 164,\n",
       "        170, 119, 152, 171, 171, 170, 171, 172, 172, 172, 172, 172, 171,\n",
       "        171, 170],\n",
       "       [113, 123, 131, 137, 142, 145, 150, 152, 155, 158, 161, 163, 164,\n",
       "        172, 105, 142, 170, 171, 171, 171, 172, 172, 173, 173, 172, 171,\n",
       "        171, 171],\n",
       "       [116, 125, 133, 139, 143, 146, 151, 153, 156, 159, 162, 163, 167,\n",
       "        167,  95, 144, 171, 172, 172, 172, 172, 172, 173, 173, 173, 172,\n",
       "        172, 171],\n",
       "       [117, 126, 134, 140, 145, 149, 153, 156, 158, 161, 163, 164, 175,\n",
       "        156,  87, 154, 172, 173, 173, 173, 173, 173, 174, 174, 174, 173,\n",
       "        172, 172],\n",
       "       [119, 128, 136, 142, 146, 150, 153, 156, 159, 163, 165, 164, 184,\n",
       "        148,  89, 164, 172, 174, 174, 174, 174, 175, 175, 174, 175, 174,\n",
       "        173, 173],\n",
       "       [122, 130, 138, 143, 147, 150, 154, 158, 162, 165, 166, 172, 181,\n",
       "        128,  94, 170, 173, 175, 174, 175, 176, 177, 177, 177, 177, 175,\n",
       "        175, 174],\n",
       "       [122, 132, 139, 145, 149, 152, 156, 160, 163, 165, 166, 181, 172,\n",
       "        103, 113, 175, 176, 178, 178, 179, 179, 179, 179, 178, 179, 177,\n",
       "        175, 174],\n",
       "       [125, 134, 141, 147, 150, 153, 157, 161, 164, 167, 168, 184, 179,\n",
       "        116, 126, 165, 176, 179, 180, 180, 181, 180, 180, 180, 179, 178,\n",
       "        177, 176],\n",
       "       [128, 135, 142, 148, 152, 154, 158, 162, 165, 168, 170, 187, 180,\n",
       "        156, 161, 124, 143, 179, 178, 178, 181, 182, 181, 180, 181, 180,\n",
       "        179, 179],\n",
       "       [129, 136, 144, 150, 153, 155, 159, 163, 166, 169, 172, 187, 184,\n",
       "        153, 102, 117, 110, 175, 169, 154, 182, 183, 183, 182, 182, 181,\n",
       "        181, 179],\n",
       "       [131, 138, 145, 150, 155, 157, 161, 165, 168, 174, 190, 189, 175,\n",
       "        146,  94,  97, 113, 151, 158, 129, 184, 184, 184, 184, 183, 183,\n",
       "        182, 180],\n",
       "       [131, 139, 146, 151, 155, 159, 163, 167, 175, 182, 179, 171, 159,\n",
       "        114, 102,  89, 121, 136, 136,  96, 172, 186, 186, 185, 185, 184,\n",
       "        182, 181],\n",
       "       [131, 140, 147, 154, 157, 160, 164, 179, 186, 191, 187, 180, 157,\n",
       "        100,  88,  84, 108, 111, 126,  90, 120, 186, 187, 187, 186, 185,\n",
       "        184, 182],\n",
       "       [133, 141, 149, 155, 158, 160, 174, 201, 189, 165, 151, 143, 146,\n",
       "        120,  87,  78,  87,  76, 108,  98,  96, 181, 188, 187, 186, 186,\n",
       "        185, 183],\n",
       "       [133, 141, 150, 156, 160, 161, 179, 197, 174, 135,  99,  72,  95,\n",
       "        134,  97,  72,  74,  68, 116, 105, 108, 187, 189, 187, 187, 186,\n",
       "        186, 185],\n",
       "       [134, 143, 151, 156, 161, 163, 179, 194, 156, 110,  74,  42,  52,\n",
       "        139,  94,  67,  75,  75, 118, 106, 129, 189, 191, 190, 188, 188,\n",
       "        187, 186],\n",
       "       [135, 144, 152, 158, 163, 163, 177, 193, 161, 122,  84,  43,  71,\n",
       "        134,  81,  57,  71,  88, 112,  98, 157, 193, 193, 192, 190, 190,\n",
       "        189, 188],\n",
       "       [136, 144, 152, 158, 162, 163, 176, 192, 164, 128,  98,  62,  60,\n",
       "        100,  71,  76,  96, 101, 105,  95, 174, 195, 194, 194, 194, 193,\n",
       "        191, 190],\n",
       "       [137, 145, 152, 159, 164, 165, 178, 191, 164, 135, 113,  82,  59,\n",
       "         87,  98, 111, 120, 108,  97, 108, 190, 196, 195, 195, 194, 193,\n",
       "        193, 192],\n",
       "       [139, 146, 154, 160, 164, 165, 175, 186, 163, 139, 112,  85,  67,\n",
       "        102, 126, 133, 126, 105, 104, 176, 197, 198, 197, 196, 195, 195,\n",
       "        194, 193],\n",
       "       [138, 147, 155, 161, 165, 167, 172, 186, 163, 137, 107,  87,  76,\n",
       "        106, 122, 125, 117,  96, 156, 199, 199, 200, 198, 196, 196, 195,\n",
       "        195, 194],\n",
       "       [139, 148, 156, 163, 166, 168, 172, 180, 158, 131, 108,  99,  86,\n",
       "        108, 118, 116, 103, 107, 191, 202, 201, 200, 200, 200, 199, 197,\n",
       "        198, 196],\n",
       "       [140, 149, 157, 164, 168, 167, 177, 178, 155, 131, 118, 105,  87,\n",
       "        100, 106, 100,  96, 164, 202, 202, 202, 202, 202, 201, 200, 199,\n",
       "        199, 198],\n",
       "       [140, 150, 157, 165, 167, 170, 181, 175, 152, 130, 115,  98,  82,\n",
       "         85,  90,  99, 165, 202, 203, 204, 203, 203, 202, 202, 201, 201,\n",
       "        200, 200],\n",
       "       [142, 150, 159, 165, 170, 191, 173, 157, 144, 119,  97,  84,  79,\n",
       "         79,  91, 172, 202, 203, 203, 205, 204, 204, 204, 203, 202, 202,\n",
       "        201, 200],\n",
       "       [142, 151, 160, 165, 188, 190, 187, 150, 119, 109,  85,  79,  79,\n",
       "         78, 137, 203, 205, 206, 206, 207, 207, 206, 206, 204, 205, 204,\n",
       "        203, 202],\n",
       "       [142, 151, 160, 172, 196, 188, 188, 190, 135,  96,  86,  77,  77,\n",
       "         79, 176, 205, 207, 207, 207, 207, 207, 207, 206, 206, 206, 204,\n",
       "        203, 202]])"
      ]
     },
     "execution_count": 7,
     "metadata": {},
     "output_type": "execute_result"
    }
   ],
   "source": [
    "X_train = np.array(X_train.iloc[:,:])\n",
    "X_train = np.array([np.reshape(i, (28,28)) for i in X_train])\n",
    "X_test = np.array(X_test.iloc[:,:])\n",
    "X_test = np.array([np.reshape(i, (28,28)) for i in X_test])\n",
    "num_classes = 26\n",
    "y_train = np.array(y_train).reshape(-1)\n",
    "y_test = np.array(y_test).reshape(-1)\n",
    "y_train = np.eye(num_classes)[y_train]\n",
    "y_test = np.eye(num_classes)[y_test]\n",
    "X_train[0]"
   ]
  },
  {
   "cell_type": "code",
   "execution_count": 8,
   "metadata": {},
   "outputs": [
    {
     "data": {
      "text/plain": [
       "<matplotlib.image.AxesImage at 0x17c22c730>"
      ]
     },
     "execution_count": 8,
     "metadata": {},
     "output_type": "execute_result"
    },
    {
     "data": {
      "image/png": "[encoded data removed]",
      "text/plain": [
       "<Figure size 640x480 with 1 Axes>"
      ]
     },
     "metadata": {},
     "output_type": "display_data"
    }
   ],
   "source": [
    "plt.imshow(X_train[0])"
   ]
  },
  {
   "cell_type": "code",
   "execution_count": 9,
   "metadata": {},
   "outputs": [],
   "source": [
    "plt.show()"
   ]
  },
  {
   "cell_type": "code",
   "execution_count": 11,
   "metadata": {},
   "outputs": [
    {
     "name": "stdout",
     "output_type": "stream",
     "text": [
      "Training examples: 27455\n",
      "Test examples: 7172\n",
      "X_train shape\" (27455, 28, 28)\n",
      "y_train shape\" (27455, 26)\n",
      "X_test shape\" (7172, 28, 28)\n",
      "y_test shape\" (7172, 26)\n"
     ]
    }
   ],
   "source": [
    "print('Training examples:',X_train.shape[0])\n",
    "print('Test examples:',X_test.shape[0])\n",
    "print('X_train shape\"',X_train.shape)\n",
    "print('y_train shape\"',y_train.shape)\n",
    "print('X_test shape\"',X_test.shape)\n",
    "print('y_test shape\"',y_test.shape)"
   ]
  },
  {
   "cell_type": "code",
   "execution_count": 12,
   "metadata": {},
   "outputs": [],
   "source": [
    "X_train = X_train.reshape((27455, 28, 28, 1))\n",
    "X_test = X_test.reshape((7172, 28, 28, 1))"
   ]
  },
  {
   "cell_type": "code",
   "execution_count": 13,
   "metadata": {},
   "outputs": [
    {
     "name": "stderr",
     "output_type": "stream",
     "text": [
      "2023-12-07 01:35:14.002988: I metal_plugin/src/device/metal_device.cc:1154] Metal device set to: Apple M1\n",
      "2023-12-07 01:35:14.003054: I metal_plugin/src/device/metal_device.cc:296] systemMemory: 8.00 GB\n",
      "2023-12-07 01:35:14.003068: I metal_plugin/src/device/metal_device.cc:313] maxCacheSize: 2.67 GB\n",
      "2023-12-07 01:35:14.003654: I tensorflow/core/common_runtime/pluggable_device/pluggable_device_factory.cc:306] Could not identify NUMA node of platform GPU ID 0, defaulting to 0. Your kernel may not have been built with NUMA support.\n",
      "2023-12-07 01:35:14.004806: I tensorflow/core/common_runtime/pluggable_device/pluggable_device_factory.cc:272] Created TensorFlow device (/job:localhost/replica:0/task:0/device:GPU:0 with 0 MB memory) -> physical PluggableDevice (device: 0, name: METAL, pci bus id: <undefined>)\n"
     ]
    },
    {
     "name": "stdout",
     "output_type": "stream",
     "text": [
      "Model: \"sequential\"\n",
      "_________________________________________________________________\n",
      " Layer (type)                Output Shape              Param #   \n",
      "=================================================================\n",
      " conv2d (Conv2D)             (None, 26, 26, 32)        320       \n",
      "                                                                 \n",
      " conv2d_1 (Conv2D)           (None, 24, 24, 64)        18496     \n",
      "                                                                 \n",
      " max_pooling2d (MaxPooling2  (None, 12, 12, 64)        0         \n",
      " D)                                                              \n",
      "                                                                 \n",
      " batch_normalization (Batch  (None, 12, 12, 64)        256       \n",
      " Normalization)                                                  \n",
      "                                                                 \n",
      " conv2d_2 (Conv2D)           (None, 10, 10, 128)       73856     \n",
      "                                                                 \n",
      " max_pooling2d_1 (MaxPoolin  (None, 5, 5, 128)         0         \n",
      " g2D)                                                            \n",
      "                                                                 \n",
      " dropout (Dropout)           (None, 5, 5, 128)         0         \n",
      "                                                                 \n",
      " flatten (Flatten)           (None, 3200)              0         \n",
      "                                                                 \n",
      " dense (Dense)               (None, 256)               819456    \n",
      "                                                                 \n",
      " dropout_1 (Dropout)         (None, 256)               0         \n",
      "                                                                 \n",
      " dense_1 (Dense)             (None, 128)               32896     \n",
      "                                                                 \n",
      " dropout_2 (Dropout)         (None, 128)               0         \n",
      "                                                                 \n",
      " dense_2 (Dense)             (None, 26)                3354      \n",
      "                                                                 \n",
      "=================================================================\n",
      "Total params: 948634 (3.62 MB)\n",
      "Trainable params: 948506 (3.62 MB)\n",
      "Non-trainable params: 128 (512.00 Byte)\n",
      "_________________________________________________________________\n"
     ]
    }
   ],
   "source": [
    "#building the cnn model\n",
    "keras.backend.clear_session()\n",
    "model = Sequential()\n",
    "model.add(Conv2D(32, kernel_size=(3, 3),activation='relu',\n",
    "input_shape=(28,28,1)))\n",
    "model.add(Conv2D(64, (3, 3), activation='relu'))\n",
    "model.add(MaxPooling2D(pool_size=(2, 2)))\n",
    "model.add(BatchNormalization())\n",
    "model.add(Conv2D(128, (3, 3), activation='relu'))\n",
    "model.add(MaxPooling2D(pool_size=(2, 2)))\n",
    "model.add(Dropout(0.25))\n",
    "model.add(Flatten())\n",
    "model.add(Dense(256, activation='relu'))\n",
    "model.add(Dropout(0.5))\n",
    "model.add(Dense(128, activation='relu'))\n",
    "model.add(Dropout(0.5))\n",
    "model.add(Dense(26, activation='softmax'))\n",
    "model.compile(loss='categorical_crossentropy',optimizer='Adam',metrics=['accuracy'])\n",
    "model.summary()"
   ]
  },
  {
   "cell_type": "code",
   "execution_count": 15,
   "metadata": {},
   "outputs": [
    {
     "name": "stdout",
     "output_type": "stream",
     "text": [
      "Epoch 1/3\n",
      "550/550 [==============================] - 48s 88ms/step - loss: 32.0907 - accuracy: 0.7050\n",
      "Epoch 2/3\n",
      "550/550 [==============================] - 47s 85ms/step - loss: 29.0628 - accuracy: 0.8505\n",
      "Epoch 3/3\n",
      "550/550 [==============================] - 47s 85ms/step - loss: 26.9174 - accuracy: 0.9033\n",
      "225/225 [==============================] - 4s 10ms/step\n",
      "225/225 [==============================] - 1s 5ms/step\n"
     ]
    },
    {
     "data": {
      "text/plain": [
       "array([ 6,  5, 10, ...,  2,  4,  2])"
      ]
     },
     "execution_count": 15,
     "metadata": {},
     "output_type": "execute_result"
    }
   ],
   "source": [
    "#Training\n",
    "model.fit(X_train, y_train, batch_size = 50, epochs = 3)\n",
    "y_pred = model.predict(X_test)\n",
    "#Testing\n",
    "y_pred = model.predict(X_test)\n",
    "y_pred = np.argmax(y_pred, axis=1)\n",
    "y_pred"
   ]
  },
  {
   "cell_type": "code",
   "execution_count": 16,
   "metadata": {},
   "outputs": [
    {
     "data": {
      "text/plain": [
       "array([ 6,  5, 10, ...,  2,  4,  2])"
      ]
     },
     "execution_count": 16,
     "metadata": {},
     "output_type": "execute_result"
    }
   ],
   "source": [
    "y_test = np.array(test['label'].values)\n",
    "y_test\n"
   ]
  },
  {
   "cell_type": "code",
   "execution_count": 17,
   "metadata": {},
   "outputs": [
    {
     "data": {
      "text/plain": [
       "0.8951477969882878"
      ]
     },
     "execution_count": 17,
     "metadata": {},
     "output_type": "execute_result"
    }
   ],
   "source": [
    "from sklearn.metrics import accuracy_score\n",
    "accuracy_score(y_test, y_pred)"
   ]
  }
 ],
 "metadata": {
  "kernelspec": {
   "display_name": "Python 3.9 (torch)",
   "language": "python",
   "name": "pytorch"
  },
  "language_info": {
   "codemirror_mode": {
    "name": "ipython",
    "version": 3
   },
   "file_extension": ".py",
   "mimetype": "text/x-python",
   "name": "python",
   "nbconvert_exporter": "python",
   "pygments_lexer": "ipython3",
   "version": "3.9.18"
  }
 },
 "nbformat": 4,
 "nbformat_minor": 2
}
